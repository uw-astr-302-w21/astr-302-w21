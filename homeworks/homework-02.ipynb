{
 "cells": [
  {
   "cell_type": "markdown",
   "metadata": {
    "slideshow": {
     "slide_type": "slide"
    }
   },
   "source": [
    "# Homework #2: Practicing git, and collaborating using GitHub"
   ]
  },
  {
   "cell_type": "markdown",
   "metadata": {
    "slideshow": {
     "slide_type": "slide"
    }
   },
   "source": [
    "At:\n",
    "\n",
    "        https://github.com/uw-astr-302-w21/astr-302-scicalc\n",
    "\n",
    "you will find a project attempting to collaboratively build a toy scientific calculator. The calculator has only a few operations implemented, but also a number of proposed enhancements recorded as GitHub issues. Your task is to:\n",
    "\n",
    "* By next time we meet to work on the homework, try to:\n",
    "  - Claim an issue you will work on by adding a comment stating you'll work on it. It cannot not be the issue you opened!\n",
    "  - Implement the proposed enhancement in your own fork -- like we practiced. Then initiate a Pull Request to merge it back.\n",
    "  - Ask the colleague who opened the issue to review your implementation. You should also get a review assignment from one of your colleagues.\n",
    "\n",
    "* By the submission deadline:\n",
    "  - review the pull request that was submitted in response to your issue. At minimum:\n",
    "    - clone the PR branch and test that it works as promised.\n",
    "    - make sure the documentation (the docstring) is there.\n",
    "  - if there are issues, ask the submitter to have them fixed.\n",
    "    - (and also fix any issues in your own code that someone else will be reviewing)\n",
    "  - when you're done, leave a comment on the pull request saying it looks good (a brief [LGTM!](https://www.freecodecamp.org/news/what-do-cryptic-github-comments-mean-9c1912bcc0a4) will suffice!)\n",
    "\n",
    "***Feel free to use Slack to collaborate if you get stuck!***"
   ]
  }
 ],
 "metadata": {
  "celltoolbar": "Slideshow",
  "kernelspec": {
   "display_name": "Python 3",
   "language": "python",
   "name": "python3"
  },
  "language_info": {
   "codemirror_mode": {
    "name": "ipython",
    "version": 3
   },
   "file_extension": ".py",
   "mimetype": "text/x-python",
   "name": "python",
   "nbconvert_exporter": "python",
   "pygments_lexer": "ipython3",
   "version": "3.7.6"
  }
 },
 "nbformat": 4,
 "nbformat_minor": 1
}
